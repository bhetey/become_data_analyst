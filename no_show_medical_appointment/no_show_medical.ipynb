{
 "cells": [
  {
   "cell_type": "markdown",
   "metadata": {},
   "source": [
    "# No Show Medical Appointment \n"
   ]
  },
  {
   "cell_type": "markdown",
   "metadata": {},
   "source": [
    "** IMPORTANT OVERVIEW OF THE DATA SET:**\n",
    "This dataset collects information from 100k medical appointments in Brazil and is focused on the question of whether or not patients show up for their appointment. A number of characteristics about the patient are included in each row.\n",
    "\n",
    "\t✓\t‘ScheduledDay’ tells us on what day the patient set up their appointment.\n",
    "    \n",
    "\t✓\t‘Neighbourhood’ indicates the location of the hospital.\n",
    "    \n",
    "\t✓\t‘Scholarship’ indicates whether or not the patient is enrolled in Brasilian welfare program Bolsa Família.\n",
    "    \n",
    "Be careful about the encoding of the last column: it says ‘No’ if the patient showed up to their appointment, and ‘Yes’ if they did not show up.\n",
    "\n",
    "**WHAT THE PROJECT IS ABOUT. **\n",
    "\n",
    "* This uses a csv file, data from kaggle called No show appointment. \n",
    "\n",
    "** BELOW ARE THE COLUMNS IN THE DATASET AND WHAT THEY MEAN : **\n",
    "+ PatientId = ID of the patient\n",
    "+ AppointmentID = ID of the appointment\n",
    "+ Gender = Gender of patient\n",
    "+ ScheduledDay = The day which appointment was scheduled\n",
    "+ AppointmentDay = The day which appintment planned to occur\n",
    "+ Age = Age of the patient\n",
    "+ Neighbourhood = The place where hospital located\n",
    "+ Scholarship = If the patient has scholarship or not, That is 1 for True and 0 for False\n",
    "+ Hipertension = If the patient has Hipertension or not, That is 1 for True and 0 for False\n",
    "+ Diabetes = If the patient has Diabetes or not, That is 1 for True and 0 for False\n",
    "+ Alcoholism = If the patient has Alcoholism or not, That is 1 for True and 0 for False\n",
    "+ Handcap = If the patient has Handcap or not. That is 1 for True and 0 for False\n",
    "+ SMS_received = If the patient received an SMS for the appointment\n",
    "+ No.show = no show information. “Yes” means patient did not come to the appointment, “No” means patient came to appointment.\n",
    "\n",
    "** QUESTIONS TO BE INVESTIGATED WITH THIS DATA SET: **\n",
    "+ what factors are important for us to know in order to predict if a patient will show up for their scheduled appointmment. \n",
    "\n",
    "+ what gender missed the most appointments ? \n",
    "\n",
    "+ what day of the week, do the patients mostly miss appointment. \n",
    "\n"
   ]
  },
  {
   "cell_type": "code",
   "execution_count": 39,
   "metadata": {},
   "outputs": [
    {
     "data": {
      "text/html": [
       "<div>\n",
       "<style>\n",
       "    .dataframe thead tr:only-child th {\n",
       "        text-align: right;\n",
       "    }\n",
       "\n",
       "    .dataframe thead th {\n",
       "        text-align: left;\n",
       "    }\n",
       "\n",
       "    .dataframe tbody tr th {\n",
       "        vertical-align: top;\n",
       "    }\n",
       "</style>\n",
       "<table border=\"1\" class=\"dataframe\">\n",
       "  <thead>\n",
       "    <tr style=\"text-align: right;\">\n",
       "      <th></th>\n",
       "      <th>PatientId</th>\n",
       "      <th>AppointmentID</th>\n",
       "      <th>Gender</th>\n",
       "      <th>ScheduledDay</th>\n",
       "      <th>AppointmentDay</th>\n",
       "      <th>Age</th>\n",
       "      <th>Neighbourhood</th>\n",
       "      <th>Scholarship</th>\n",
       "      <th>Hipertension</th>\n",
       "      <th>Diabetes</th>\n",
       "      <th>Alcoholism</th>\n",
       "      <th>Handcap</th>\n",
       "      <th>SMS_received</th>\n",
       "      <th>No-show</th>\n",
       "    </tr>\n",
       "  </thead>\n",
       "  <tbody>\n",
       "    <tr>\n",
       "      <th>0</th>\n",
       "      <td>2.987250e+13</td>\n",
       "      <td>5642903</td>\n",
       "      <td>F</td>\n",
       "      <td>2016-04-29T18:38:08Z</td>\n",
       "      <td>2016-04-29T00:00:00Z</td>\n",
       "      <td>62</td>\n",
       "      <td>JARDIM DA PENHA</td>\n",
       "      <td>0</td>\n",
       "      <td>1</td>\n",
       "      <td>0</td>\n",
       "      <td>0</td>\n",
       "      <td>0</td>\n",
       "      <td>0</td>\n",
       "      <td>No</td>\n",
       "    </tr>\n",
       "    <tr>\n",
       "      <th>1</th>\n",
       "      <td>5.589978e+14</td>\n",
       "      <td>5642503</td>\n",
       "      <td>M</td>\n",
       "      <td>2016-04-29T16:08:27Z</td>\n",
       "      <td>2016-04-29T00:00:00Z</td>\n",
       "      <td>56</td>\n",
       "      <td>JARDIM DA PENHA</td>\n",
       "      <td>0</td>\n",
       "      <td>0</td>\n",
       "      <td>0</td>\n",
       "      <td>0</td>\n",
       "      <td>0</td>\n",
       "      <td>0</td>\n",
       "      <td>No</td>\n",
       "    </tr>\n",
       "    <tr>\n",
       "      <th>2</th>\n",
       "      <td>4.262962e+12</td>\n",
       "      <td>5642549</td>\n",
       "      <td>F</td>\n",
       "      <td>2016-04-29T16:19:04Z</td>\n",
       "      <td>2016-04-29T00:00:00Z</td>\n",
       "      <td>62</td>\n",
       "      <td>MATA DA PRAIA</td>\n",
       "      <td>0</td>\n",
       "      <td>0</td>\n",
       "      <td>0</td>\n",
       "      <td>0</td>\n",
       "      <td>0</td>\n",
       "      <td>0</td>\n",
       "      <td>No</td>\n",
       "    </tr>\n",
       "    <tr>\n",
       "      <th>3</th>\n",
       "      <td>8.679512e+11</td>\n",
       "      <td>5642828</td>\n",
       "      <td>F</td>\n",
       "      <td>2016-04-29T17:29:31Z</td>\n",
       "      <td>2016-04-29T00:00:00Z</td>\n",
       "      <td>8</td>\n",
       "      <td>PONTAL DE CAMBURI</td>\n",
       "      <td>0</td>\n",
       "      <td>0</td>\n",
       "      <td>0</td>\n",
       "      <td>0</td>\n",
       "      <td>0</td>\n",
       "      <td>0</td>\n",
       "      <td>No</td>\n",
       "    </tr>\n",
       "    <tr>\n",
       "      <th>4</th>\n",
       "      <td>8.841186e+12</td>\n",
       "      <td>5642494</td>\n",
       "      <td>F</td>\n",
       "      <td>2016-04-29T16:07:23Z</td>\n",
       "      <td>2016-04-29T00:00:00Z</td>\n",
       "      <td>56</td>\n",
       "      <td>JARDIM DA PENHA</td>\n",
       "      <td>0</td>\n",
       "      <td>1</td>\n",
       "      <td>1</td>\n",
       "      <td>0</td>\n",
       "      <td>0</td>\n",
       "      <td>0</td>\n",
       "      <td>No</td>\n",
       "    </tr>\n",
       "  </tbody>\n",
       "</table>\n",
       "</div>"
      ],
      "text/plain": [
       "      PatientId  AppointmentID Gender          ScheduledDay  \\\n",
       "0  2.987250e+13        5642903      F  2016-04-29T18:38:08Z   \n",
       "1  5.589978e+14        5642503      M  2016-04-29T16:08:27Z   \n",
       "2  4.262962e+12        5642549      F  2016-04-29T16:19:04Z   \n",
       "3  8.679512e+11        5642828      F  2016-04-29T17:29:31Z   \n",
       "4  8.841186e+12        5642494      F  2016-04-29T16:07:23Z   \n",
       "\n",
       "         AppointmentDay  Age      Neighbourhood  Scholarship  Hipertension  \\\n",
       "0  2016-04-29T00:00:00Z   62    JARDIM DA PENHA            0             1   \n",
       "1  2016-04-29T00:00:00Z   56    JARDIM DA PENHA            0             0   \n",
       "2  2016-04-29T00:00:00Z   62      MATA DA PRAIA            0             0   \n",
       "3  2016-04-29T00:00:00Z    8  PONTAL DE CAMBURI            0             0   \n",
       "4  2016-04-29T00:00:00Z   56    JARDIM DA PENHA            0             1   \n",
       "\n",
       "   Diabetes  Alcoholism  Handcap  SMS_received No-show  \n",
       "0         0           0        0             0      No  \n",
       "1         0           0        0             0      No  \n",
       "2         0           0        0             0      No  \n",
       "3         0           0        0             0      No  \n",
       "4         1           0        0             0      No  "
      ]
     },
     "execution_count": 39,
     "metadata": {},
     "output_type": "execute_result"
    }
   ],
   "source": [
    "# import modules needed for the investigation \n",
    "%matplotlib inline\n",
    "import numpy as np \n",
    "import pandas as pd\n",
    "from datetime import datetime as dt \n",
    "import matplotlib.pyplot as plt\n",
    "\n",
    "# import the data from the csv and assigned it to a variable called df \n",
    "df = pd.read_csv('noshowappointments-kagglev2-may-2016.csv')\n",
    "df.head()\n",
    "# using the header shows us the first 5 roles from top of the data set. "
   ]
  },
  {
   "cell_type": "code",
   "execution_count": 40,
   "metadata": {},
   "outputs": [
    {
     "name": "stdout",
     "output_type": "stream",
     "text": [
      "          PatientId  AppointmentID            Age    Scholarship  \\\n",
      "count  1.105270e+05   1.105270e+05  110527.000000  110527.000000   \n",
      "mean   1.474963e+14   5.675305e+06      37.088874       0.098266   \n",
      "std    2.560949e+14   7.129575e+04      23.110205       0.297675   \n",
      "min    3.921784e+04   5.030230e+06      -1.000000       0.000000   \n",
      "25%    4.172614e+12   5.640286e+06      18.000000       0.000000   \n",
      "50%    3.173184e+13   5.680573e+06      37.000000       0.000000   \n",
      "75%    9.439172e+13   5.725524e+06      55.000000       0.000000   \n",
      "max    9.999816e+14   5.790484e+06     115.000000       1.000000   \n",
      "\n",
      "        Hipertension       Diabetes     Alcoholism        Handcap  \\\n",
      "count  110527.000000  110527.000000  110527.000000  110527.000000   \n",
      "mean        0.197246       0.071865       0.030400       0.022248   \n",
      "std         0.397921       0.258265       0.171686       0.161543   \n",
      "min         0.000000       0.000000       0.000000       0.000000   \n",
      "25%         0.000000       0.000000       0.000000       0.000000   \n",
      "50%         0.000000       0.000000       0.000000       0.000000   \n",
      "75%         0.000000       0.000000       0.000000       0.000000   \n",
      "max         1.000000       1.000000       1.000000       4.000000   \n",
      "\n",
      "        SMS_received  \n",
      "count  110527.000000  \n",
      "mean        0.321026  \n",
      "std         0.466873  \n",
      "min         0.000000  \n",
      "25%         0.000000  \n",
      "50%         0.000000  \n",
      "75%         1.000000  \n",
      "max         1.000000  \n"
     ]
    }
   ],
   "source": [
    "# this is drop the missing values \n",
    "df_no_missing = df.dropna(axis = 1, how='any')\n",
    "print df.describe()"
   ]
  },
  {
   "cell_type": "code",
   "execution_count": 41,
   "metadata": {},
   "outputs": [
    {
     "data": {
      "text/plain": [
       "Index([u'PatientId', u'AppointmentID', u'Gender', u'ScheduledDay',\n",
       "       u'AppointmentDay', u'Age', u'Neighbourhood', u'Scholarship',\n",
       "       u'Hipertension', u'Diabetes', u'Alcoholism', u'Handcap',\n",
       "       u'SMS_received', u'No-show'],\n",
       "      dtype='object')"
      ]
     },
     "execution_count": 41,
     "metadata": {},
     "output_type": "execute_result"
    }
   ],
   "source": [
    "df.columns    # this gives us the idea of the total columns we have in the data set. "
   ]
  },
  {
   "cell_type": "code",
   "execution_count": 42,
   "metadata": {},
   "outputs": [
    {
     "data": {
      "text/plain": [
       "Index([u'Patient_Id', u'Appointment_ID', u'Gender', u'Scheduled_Day',\n",
       "       u'Appointment_Day', u'Age', u'Neighbourhood', u'Scholarship',\n",
       "       u'Hypertension', u'Diabetes', u'Alcoholism', u'Handcap',\n",
       "       u'SMS_received', u'No_show'],\n",
       "      dtype='object')"
      ]
     },
     "execution_count": 42,
     "metadata": {},
     "output_type": "execute_result"
    }
   ],
   "source": [
    "# Here i am renaming some columns to provide some clarity into the data\n",
    "# like removing spaces\n",
    "df.rename(columns = { \"PatientId\":'Patient_Id', 'Hipertension': 'Hypertension', \\\n",
    "                     \"AppointmentID\":'Appointment_ID',\"ScheduledDay\": \"Scheduled_Day\", \\\n",
    "                     'AppointmentDay': 'Appointment_Day' }, inplace=True)\n",
    "df.columns = df.columns.str.replace('-', '_')\n",
    "df.columns"
   ]
  },
  {
   "cell_type": "code",
   "execution_count": 43,
   "metadata": {},
   "outputs": [
    {
     "data": {
      "text/plain": [
       "(110527, 14)"
      ]
     },
     "execution_count": 43,
     "metadata": {},
     "output_type": "execute_result"
    }
   ],
   "source": [
    "# this is to present the total rows and the columns we have in the data set\n",
    "df.shape\n",
    "# reading from left to right, rows first and then column"
   ]
  },
  {
   "cell_type": "code",
   "execution_count": 44,
   "metadata": {
    "scrolled": true
   },
   "outputs": [
    {
     "name": "stdout",
     "output_type": "stream",
     "text": [
      "<class 'pandas.core.frame.DataFrame'>\n",
      "RangeIndex: 110527 entries, 0 to 110526\n",
      "Data columns (total 14 columns):\n",
      "Patient_Id         110527 non-null float64\n",
      "Appointment_ID     110527 non-null int64\n",
      "Gender             110527 non-null object\n",
      "Scheduled_Day      110527 non-null object\n",
      "Appointment_Day    110527 non-null object\n",
      "Age                110527 non-null int64\n",
      "Neighbourhood      110527 non-null object\n",
      "Scholarship        110527 non-null int64\n",
      "Hypertension       110527 non-null int64\n",
      "Diabetes           110527 non-null int64\n",
      "Alcoholism         110527 non-null int64\n",
      "Handcap            110527 non-null int64\n",
      "SMS_received       110527 non-null int64\n",
      "No_show            110527 non-null object\n",
      "dtypes: float64(1), int64(8), object(5)\n",
      "memory usage: 11.8+ MB\n"
     ]
    }
   ],
   "source": [
    "df.info()\n",
    "# this is showing more information about the data set like the type of data they are"
   ]
  },
  {
   "cell_type": "code",
   "execution_count": 45,
   "metadata": {
    "collapsed": true
   },
   "outputs": [],
   "source": [
    "# Here we converted the date, time and seconds using pandas in built function to make the date and time more\n",
    "# comprehensive to understand\n",
    "# below is the link for the documentation \n",
    "# https://pandas.pydata.org/pandas-docs/stable/generated/pandas.to_datetime.html#pandas.to_datetime\n",
    "df['Scheduled_Day'] = pd.to_datetime(df['Scheduled_Day'])\n",
    "df['Appointment_Day'] = pd.to_datetime(df['Appointment_Day'])"
   ]
  },
  {
   "cell_type": "code",
   "execution_count": 46,
   "metadata": {
    "scrolled": true
   },
   "outputs": [
    {
     "data": {
      "text/html": [
       "<div>\n",
       "<style>\n",
       "    .dataframe thead tr:only-child th {\n",
       "        text-align: right;\n",
       "    }\n",
       "\n",
       "    .dataframe thead th {\n",
       "        text-align: left;\n",
       "    }\n",
       "\n",
       "    .dataframe tbody tr th {\n",
       "        vertical-align: top;\n",
       "    }\n",
       "</style>\n",
       "<table border=\"1\" class=\"dataframe\">\n",
       "  <thead>\n",
       "    <tr style=\"text-align: right;\">\n",
       "      <th></th>\n",
       "      <th>Patient_Id</th>\n",
       "      <th>Appointment_ID</th>\n",
       "      <th>Gender</th>\n",
       "      <th>Scheduled_Day</th>\n",
       "      <th>Appointment_Day</th>\n",
       "      <th>Age</th>\n",
       "      <th>Neighbourhood</th>\n",
       "      <th>Scholarship</th>\n",
       "      <th>Hypertension</th>\n",
       "      <th>Diabetes</th>\n",
       "      <th>Alcoholism</th>\n",
       "      <th>Handcap</th>\n",
       "      <th>SMS_received</th>\n",
       "      <th>No_show</th>\n",
       "    </tr>\n",
       "  </thead>\n",
       "  <tbody>\n",
       "    <tr>\n",
       "      <th>0</th>\n",
       "      <td>2.987250e+13</td>\n",
       "      <td>5642903</td>\n",
       "      <td>F</td>\n",
       "      <td>2016-04-29 18:38:08</td>\n",
       "      <td>2016-04-29</td>\n",
       "      <td>62</td>\n",
       "      <td>JARDIM DA PENHA</td>\n",
       "      <td>0</td>\n",
       "      <td>1</td>\n",
       "      <td>0</td>\n",
       "      <td>0</td>\n",
       "      <td>0</td>\n",
       "      <td>0</td>\n",
       "      <td>No</td>\n",
       "    </tr>\n",
       "    <tr>\n",
       "      <th>1</th>\n",
       "      <td>5.589978e+14</td>\n",
       "      <td>5642503</td>\n",
       "      <td>M</td>\n",
       "      <td>2016-04-29 16:08:27</td>\n",
       "      <td>2016-04-29</td>\n",
       "      <td>56</td>\n",
       "      <td>JARDIM DA PENHA</td>\n",
       "      <td>0</td>\n",
       "      <td>0</td>\n",
       "      <td>0</td>\n",
       "      <td>0</td>\n",
       "      <td>0</td>\n",
       "      <td>0</td>\n",
       "      <td>No</td>\n",
       "    </tr>\n",
       "    <tr>\n",
       "      <th>2</th>\n",
       "      <td>4.262962e+12</td>\n",
       "      <td>5642549</td>\n",
       "      <td>F</td>\n",
       "      <td>2016-04-29 16:19:04</td>\n",
       "      <td>2016-04-29</td>\n",
       "      <td>62</td>\n",
       "      <td>MATA DA PRAIA</td>\n",
       "      <td>0</td>\n",
       "      <td>0</td>\n",
       "      <td>0</td>\n",
       "      <td>0</td>\n",
       "      <td>0</td>\n",
       "      <td>0</td>\n",
       "      <td>No</td>\n",
       "    </tr>\n",
       "    <tr>\n",
       "      <th>3</th>\n",
       "      <td>8.679512e+11</td>\n",
       "      <td>5642828</td>\n",
       "      <td>F</td>\n",
       "      <td>2016-04-29 17:29:31</td>\n",
       "      <td>2016-04-29</td>\n",
       "      <td>8</td>\n",
       "      <td>PONTAL DE CAMBURI</td>\n",
       "      <td>0</td>\n",
       "      <td>0</td>\n",
       "      <td>0</td>\n",
       "      <td>0</td>\n",
       "      <td>0</td>\n",
       "      <td>0</td>\n",
       "      <td>No</td>\n",
       "    </tr>\n",
       "    <tr>\n",
       "      <th>4</th>\n",
       "      <td>8.841186e+12</td>\n",
       "      <td>5642494</td>\n",
       "      <td>F</td>\n",
       "      <td>2016-04-29 16:07:23</td>\n",
       "      <td>2016-04-29</td>\n",
       "      <td>56</td>\n",
       "      <td>JARDIM DA PENHA</td>\n",
       "      <td>0</td>\n",
       "      <td>1</td>\n",
       "      <td>1</td>\n",
       "      <td>0</td>\n",
       "      <td>0</td>\n",
       "      <td>0</td>\n",
       "      <td>No</td>\n",
       "    </tr>\n",
       "  </tbody>\n",
       "</table>\n",
       "</div>"
      ],
      "text/plain": [
       "     Patient_Id  Appointment_ID Gender       Scheduled_Day Appointment_Day  \\\n",
       "0  2.987250e+13         5642903      F 2016-04-29 18:38:08      2016-04-29   \n",
       "1  5.589978e+14         5642503      M 2016-04-29 16:08:27      2016-04-29   \n",
       "2  4.262962e+12         5642549      F 2016-04-29 16:19:04      2016-04-29   \n",
       "3  8.679512e+11         5642828      F 2016-04-29 17:29:31      2016-04-29   \n",
       "4  8.841186e+12         5642494      F 2016-04-29 16:07:23      2016-04-29   \n",
       "\n",
       "   Age      Neighbourhood  Scholarship  Hypertension  Diabetes  Alcoholism  \\\n",
       "0   62    JARDIM DA PENHA            0             1         0           0   \n",
       "1   56    JARDIM DA PENHA            0             0         0           0   \n",
       "2   62      MATA DA PRAIA            0             0         0           0   \n",
       "3    8  PONTAL DE CAMBURI            0             0         0           0   \n",
       "4   56    JARDIM DA PENHA            0             1         1           0   \n",
       "\n",
       "   Handcap  SMS_received No_show  \n",
       "0        0             0      No  \n",
       "1        0             0      No  \n",
       "2        0             0      No  \n",
       "3        0             0      No  \n",
       "4        0             0      No  "
      ]
     },
     "execution_count": 46,
     "metadata": {},
     "output_type": "execute_result"
    }
   ],
   "source": [
    "df.head()"
   ]
  },
  {
   "cell_type": "markdown",
   "metadata": {},
   "source": [
    "**According to Youth Policy.org**,\n",
    "Here is the source: *http://www.youthpolicy.org/factsheets/country/brazil/*\n",
    "- 18 Years is considered to be the minimum for criminal reponsibility, \n",
    "+ In this analysis, i assuming that since 18 is the minimum age for responsibility, then \n",
    "the child is still a teenager and not yet responsible for this actions looking at from the economic perspective. \n",
    "\n",
    "Below i create a variable named Teens_start_age = 18,  WHY ? \n",
    "* This is because i want to assume that since they are kids and not yet responsible for themselves yet, they cannot visit the doctor or go for any medical appointment unless in Life threatening situations "
   ]
  },
  {
   "cell_type": "code",
   "execution_count": 47,
   "metadata": {},
   "outputs": [
    {
     "name": "stdout",
     "output_type": "stream",
     "text": [
      "Here is the number of people below the age of 18 : 27380\n"
     ]
    }
   ],
   "source": [
    "teens_start_age = 18 \n",
    "teenagers = df[df.Age < teens_start_age]    # no of people below the age of 18\n",
    "len(teenagers)\n",
    "print \"Here is the number of people below the age of 18 : \" + str(len(teenagers))"
   ]
  },
  {
   "cell_type": "markdown",
   "metadata": {},
   "source": [
    "### In the next cell, I am taking a range from 18 to 40, \n",
    "+ people in this range are responsible and they can take care of themselves by law. \n",
    "+ a variable was created 40, i am using this as a max for people to have settled down\n"
   ]
  },
  {
   "cell_type": "code",
   "execution_count": 48,
   "metadata": {},
   "outputs": [
    {
     "name": "stdout",
     "output_type": "stream",
     "text": [
      "This is the number of people from 18 to 40 of the data set : 33304\n"
     ]
    }
   ],
   "source": [
    "settled_down_age = 40   # to ask my mentor if i have to turn this into a function.\n",
    "settling_down = df[(df['Age'] >= teens_start_age) & (df['Age'] <= settled_down_age)]\n",
    "len(settling_down)\n",
    "print \"This is the number of people from 18 to 40 of the data set : \" + str(len(settling_down))"
   ]
  },
  {
   "cell_type": "code",
   "execution_count": 49,
   "metadata": {},
   "outputs": [
    {
     "name": "stdout",
     "output_type": "stream",
     "text": [
      "This is the number of people over 40 till 60 years : 30081\n"
     ]
    }
   ],
   "source": [
    "old_age = 60    # Here i looked at the age over 40 \n",
    "getting_old = df[(df['Age'] > settled_down_age) & (df['Age'] <= old_age)]\n",
    "len(getting_old)\n",
    "print \"This is the number of people over 40 till 60 years : \" + str(len(getting_old))"
   ]
  },
  {
   "cell_type": "code",
   "execution_count": 50,
   "metadata": {},
   "outputs": [
    {
     "name": "stdout",
     "output_type": "stream",
     "text": [
      " Here is the nummber of people over 60 years : 19762\n"
     ]
    }
   ],
   "source": [
    "finally_old = df[df.Age > old_age]    # Here i want to know the people above the age of 60 \n",
    "len(finally_old)\n",
    "print\" Here is the nummber of people over 60 years : \" + str(len(finally_old))"
   ]
  },
  {
   "cell_type": "code",
   "execution_count": 51,
   "metadata": {},
   "outputs": [
    {
     "name": "stdout",
     "output_type": "stream",
     "text": [
      " Here is the number of Males : 38687\n",
      " Here is the number of Females : 71840\n"
     ]
    }
   ],
   "source": [
    "female_in_the_data = df[df.Gender == \"F\"]    # no of females in the gender columns\n",
    "male_in_the_data = df[df.Gender == \"M\"]    # no of males in the gender columns \n",
    "len(male_in_the_data)\n",
    "len(female_in_the_data)\n",
    "print \" Here is the number of Males : \" + str(len(male_in_the_data))\n",
    "print \" Here is the number of Females : \"+ str(len(female_in_the_data))"
   ]
  },
  {
   "cell_type": "markdown",
   "metadata": {},
   "source": [
    "## Below is a simple for histogram of age of the people\n",
    "+ The yellow line passing through it is called the line of best fit\n",
    "+ Also we have the mean age of the people in the data set \n",
    "+ The standard deviation is included "
   ]
  },
  {
   "cell_type": "code",
   "execution_count": 52,
   "metadata": {},
   "outputs": [
    {
     "name": "stdout",
     "output_type": "stream",
     "text": [
      "This is the mean :  37.0888742117\n",
      "This is the standard deviation :  23.1102049637\n"
     ]
    }
   ],
   "source": [
    "age_mean = df['Age'].mean() # mean of the age distribution \n",
    "age_standard_deviation = df['Age'].std() # standard deviation of the age distribution \n",
    "print 'This is the mean : ',age_mean\n",
    "print 'This is the standard deviation : ',age_standard_deviation"
   ]
  },
  {
   "cell_type": "code",
   "execution_count": 53,
   "metadata": {},
   "outputs": [
    {
     "data": {
      "image/png": "[encoded data removed]",
      "text/plain": [
       "<matplotlib.figure.Figure at 0x108b21590>"
      ]
     },
     "metadata": {},
     "output_type": "display_data"
    }
   ],
   "source": [
    "%matplotlib inline\n",
    "import numpy as np\n",
    "import matplotlib.mlab as mlab\n",
    "import matplotlib.pyplot as plt\n",
    "\n",
    "mu = age_mean  # mean of distribution\n",
    "sigma = age_standard_deviation  # standard deviation of distribution\n",
    "\n",
    "num_bins = 50\n",
    "\n",
    "fig, ax = plt.subplots()\n",
    "\n",
    "# the histogram of the data\n",
    "n, bins, patches = ax.hist(df['Age'], num_bins, normed=1)\n",
    "\n",
    "# add a 'best fit' line\n",
    "y = mlab.normpdf(bins, mu, sigma)\n",
    "ax.plot(bins, y, '--')\n",
    "ax.set_xlabel('Age of the people')\n",
    "ax.set_ylabel('Probability density')\n",
    "ax.set_title(r'Histogram of People Age')\n",
    "#$\\mu=, $\\sigma=$\n",
    "# Tweak spacing to prevent clipping of ylabel\n",
    "fig.tight_layout()\n",
    "plt.show()"
   ]
  },
  {
   "cell_type": "markdown",
   "metadata": {},
   "source": [
    "# Question 1 \n",
    "+ ####  what gender missed the most appointment ?\n",
    "so here i am trying to consider both genders, \n",
    "I want to find out, which one missed the most appointment \n",
    "\n"
   ]
  },
  {
   "cell_type": "code",
   "execution_count": 54,
   "metadata": {},
   "outputs": [
    {
     "name": "stdout",
     "output_type": "stream",
     "text": [
      "Male that did not show up for appointment :  7725\n"
     ]
    }
   ],
   "source": [
    "male_no_shows = df[(df['Gender'] == \"M\") & (df['No_show'] == 'Yes')]\n",
    "males_no_shows = int(len(male_no_shows))\n",
    "print \"Male that did not show up for appointment : \",males_no_shows"
   ]
  },
  {
   "cell_type": "code",
   "execution_count": 55,
   "metadata": {},
   "outputs": [
    {
     "name": "stdout",
     "output_type": "stream",
     "text": [
      "Female that did not show up for appointment :  14594\n"
     ]
    }
   ],
   "source": [
    "# Here i am trying to get the female in the gender that did not show for the appointment\n",
    "female_no_shows = df[(df['Gender'] == 'F') & (df['No_show'] == 'Yes')]\n",
    "females_no_shows = int(len(female_no_shows))\n",
    "print \"Female that did not show up for appointment : \",females_no_shows"
   ]
  },
  {
   "cell_type": "code",
   "execution_count": 56,
   "metadata": {},
   "outputs": [
    {
     "name": "stdout",
     "output_type": "stream",
     "text": [
      " Males that showed up for the appointment :  30962\n"
     ]
    }
   ],
   "source": [
    "# Here, we are looking at the number of males that showed up \n",
    "male_shows_up = df[(df['Gender'] == \"M\") & (df['No_show'] == 'No')]\n",
    "males_shows_up = int(len(male_shows_up))\n",
    "print \" Males that showed up for the appointment : \", males_shows_up"
   ]
  },
  {
   "cell_type": "code",
   "execution_count": 57,
   "metadata": {},
   "outputs": [
    {
     "name": "stdout",
     "output_type": "stream",
     "text": [
      " Females that showed up for the Medical appointment:  57246\n"
     ]
    }
   ],
   "source": [
    "#We are taking a look at the number of females that showed up for the appointment \n",
    "female_shows_up = df[(df['Gender'] == 'F') & (df['No_show'] == 'No')]\n",
    "females_shows_up = int(len(female_shows_up))\n",
    "print \" Females that showed up for the Medical appointment: \",females_shows_up"
   ]
  },
  {
   "cell_type": "markdown",
   "metadata": {},
   "source": [
    "### Below is a representation of Gender with No show \n",
    "+ to the left we have a pie chart representing the percentage of gender that show\n",
    "+ To the right we have a pie chart also showing the percentage of gender that did not show"
   ]
  },
  {
   "cell_type": "code",
   "execution_count": 58,
   "metadata": {},
   "outputs": [
    {
     "data": {
      "text/plain": [
       "array([<matplotlib.axes._subplots.AxesSubplot object at 0x11c194e10>,\n",
       "       <matplotlib.axes._subplots.AxesSubplot object at 0x1120cadd0>], dtype=object)"
      ]
     },
     "execution_count": 58,
     "metadata": {},
     "output_type": "execute_result"
    },
    {
     "data": {
      "image/png": "[encoded data removed]",
      "text/plain": [
       "<matplotlib.figure.Figure at 0x1034514d0>"
      ]
     },
     "metadata": {},
     "output_type": "display_data"
    }
   ],
   "source": [
    "grouping_gender_noshow = df.groupby(['Gender','No_show'])\n",
    "grouping_gender_noshow.size().unstack().plot(kind='pie', subplots = True, \n",
    "                                            autopct='%1.1f%%', figsize=(15,15)\n",
    "                                            ,title = 'Pie showing the relating of Gender with No Show')"
   ]
  },
  {
   "cell_type": "markdown",
   "metadata": {},
   "source": [
    "## Below is the bar chart representation of No show with Gender\n",
    "+ the Blue bar shows the people that showed for the medical appointment \n",
    "+ the Orange bar shows the people that did not show for the medical appointment "
   ]
  },
  {
   "cell_type": "code",
   "execution_count": 59,
   "metadata": {},
   "outputs": [
    {
     "data": {
      "text/plain": [
       "<matplotlib.axes._subplots.AxesSubplot at 0x108c908d0>"
      ]
     },
     "execution_count": 59,
     "metadata": {},
     "output_type": "execute_result"
    },
    {
     "data": {
      "image/png": "[encoded data removed]",
      "text/plain": [
       "<matplotlib.figure.Figure at 0x118a76950>"
      ]
     },
     "metadata": {},
     "output_type": "display_data"
    }
   ],
   "source": [
    "grouping_gender_noshow.size().unstack().plot(kind='bar', figsize=(15,15), title = 'Bar chart of No show  grouped by Gender')"
   ]
  },
  {
   "cell_type": "markdown",
   "metadata": {},
   "source": [
    "### So my conclusion is that, \n",
    "+ *the number of Male that did not show up is 7725*\n",
    "+ *Females that did not show up is 14594*\n",
    "\n",
    "+ *This means that No of females that do not show up is higher than the number of male that do not show.*\n",
    "+ *Looking at the analysis more, you will see that we have greater no of female that showed up too.*\n",
    "\n",
    "## More analysis i will like to exlpore here :\n",
    "+ To know the age range of male and females that showed and did not show up for the medical appointment.\n",
    "+ I am suppecting that there could a hight numner of teens missing appointments because of thier guardian\n",
    "+ Also the old people, little or no guardian to take them for the appointment\n",
    "### So i am not concluding here but needs to be investigated further"
   ]
  },
  {
   "cell_type": "code",
   "execution_count": 60,
   "metadata": {},
   "outputs": [
    {
     "name": "stdout",
     "output_type": "stream",
     "text": [
      "6.98924244755 %\n",
      "13.204013499 %\n",
      "28.013064681 %\n",
      "51.7936793725 %\n"
     ]
    }
   ],
   "source": [
    "from __future__ import division\n",
    "percentage = 100\n",
    "total_number_shows = len(df)\n",
    "total_number_shows = int(total_number_shows)\n",
    "def calculating_percentage(input_show):\n",
    "    the_percentage = ((input_show / total_number_shows)*percentage)\n",
    "    print the_percentage,'%'\n",
    "\n",
    "male_not_showed = calculating_percentage(males_no_shows)\n",
    "female_not_showed = calculating_percentage(females_no_shows)\n",
    "male_that_showed = calculating_percentage(males_shows_up)\n",
    "female_that_showed = calculating_percentage(females_shows_up)"
   ]
  },
  {
   "cell_type": "markdown",
   "metadata": {},
   "source": [
    "# QUESTION 2 : \n",
    "+ #### what day of the week did people missed the most appointment \n",
    "\n",
    "+ Below is the next cell, i formatted the Appointment_day to days in the week so that i can get the day of the week. "
   ]
  },
  {
   "cell_type": "code",
   "execution_count": 61,
   "metadata": {
    "collapsed": true
   },
   "outputs": [],
   "source": [
    "df['Day_of_the_appointment'] = df['Appointment_Day'].dt.weekday_name    # the day of the week was formatted here"
   ]
  },
  {
   "cell_type": "code",
   "execution_count": 62,
   "metadata": {},
   "outputs": [
    {
     "data": {
      "text/plain": [
       "22715"
      ]
     },
     "execution_count": 62,
     "metadata": {},
     "output_type": "execute_result"
    }
   ],
   "source": [
    "Monday_Appointment = df[(df['Day_of_the_appointment'] == 'Monday')]\n",
    "len(Monday_Appointment)"
   ]
  },
  {
   "cell_type": "code",
   "execution_count": 63,
   "metadata": {},
   "outputs": [
    {
     "name": "stdout",
     "output_type": "stream",
     "text": [
      "Mondays : 22715\n",
      "Tuesdays : 25640\n",
      "Wednesdays : 25867\n",
      "Thursdays : 17247\n",
      "Fridays : 19019\n",
      "Saturdays : 39\n",
      "Sundays : 0\n",
      "Here is the most days where appointment was missed :  25867\n"
     ]
    }
   ],
   "source": [
    "def checking_for_days(appointment_day, day_of_week):\n",
    "    appointment = df[(appointment_day == day_of_week)]\n",
    "    print day_of_week+'s : ' + str(len(appointment))\n",
    "    return len(appointment)\n",
    "    \n",
    "max_of_days = [\n",
    "    checking_for_days(df['Day_of_the_appointment'], 'Monday'),\n",
    "    checking_for_days(df['Day_of_the_appointment'], 'Tuesday'),\n",
    "    checking_for_days(df['Day_of_the_appointment'], 'Wednesday'),\n",
    "    checking_for_days(df['Day_of_the_appointment'], 'Thursday'),\n",
    "    checking_for_days(df['Day_of_the_appointment'], 'Friday'),\n",
    "    checking_for_days(df['Day_of_the_appointment'], 'Saturday'),\n",
    "    checking_for_days(df['Day_of_the_appointment'], 'Sunday')\n",
    "]\n",
    "# returning the number of appointment missed based on the weekday\n",
    "print 'Here is the most days where appointment was missed : ', max(max_of_days)"
   ]
  },
  {
   "cell_type": "code",
   "execution_count": 64,
   "metadata": {},
   "outputs": [
    {
     "data": {
      "text/plain": [
       "0    Wednesday\n",
       "dtype: object"
      ]
     },
     "execution_count": 64,
     "metadata": {},
     "output_type": "execute_result"
    }
   ],
   "source": [
    "# People missed most appointment on a Wednesday\n",
    "df['Day_of_the_appointment'].mode()"
   ]
  },
  {
   "cell_type": "code",
   "execution_count": 65,
   "metadata": {},
   "outputs": [
    {
     "data": {
      "text/plain": [
       "<matplotlib.axes._subplots.AxesSubplot at 0x10e1b1110>"
      ]
     },
     "execution_count": 65,
     "metadata": {},
     "output_type": "execute_result"
    },
    {
     "data": {
      "image/png": "[encoded data removed]",
      "text/plain": [
       "<matplotlib.figure.Figure at 0x10e20dbd0>"
      ]
     },
     "metadata": {},
     "output_type": "display_data"
    }
   ],
   "source": [
    "%matplotlib inline\n",
    "df['Day_of_the_appointment'].value_counts().plot(kind=\"pie\", shadow = True, startangle=270, autopct='%1.1f%%', figsize=(10,10),\n",
    "                                                 title = ('Percentage of days of the week'), legend = True)"
   ]
  },
  {
   "cell_type": "markdown",
   "metadata": {},
   "source": [
    "The above pie chart shows the percentage of how the days of the week appears. \n",
    "\n",
    "### What do i mean by this ? \n",
    "+ each variables shows how many times each day occurred in the data set. <br>\n",
    "However note that i wanted to see which of the days of the week that the people missed the most appointment, <br>\n",
    "and given the looks of things on the pie chart we can see the percentages of how they occur.\n",
    "\n",
    "\n",
    "+ **Monday** with 20.6%\n",
    "+ **Tuesday** with 23.2%\n",
    "+ **Wednesday** with 23.4%\n",
    "+ **Thurday** with 15.6%\n",
    "+ **Friday** with 17.2%\n",
    "+ **Satuday** with 0%\n",
    "\n",
    "*From pie chart analysis what i can deduce is that, the people missed their appointment most on Wednesday, slightly a bit more than Tuesday. *\n",
    "### The reason for checking this: \n",
    "+ I wanted to know if the reason for missing the appointment could be work related or not, \n",
    "What i would like to explore more here is that : What is the percentage of the working class and the non working class in this analysis\n",
    "in order to better understand the result.  "
   ]
  },
  {
   "cell_type": "code",
   "execution_count": 66,
   "metadata": {},
   "outputs": [
    {
     "data": {
      "text/plain": [
       "Text(0,0.5,u'Frequency')"
      ]
     },
     "execution_count": 66,
     "metadata": {},
     "output_type": "execute_result"
    },
    {
     "data": {
      "image/png": "[encoded data removed]",
      "text/plain": [
       "<matplotlib.figure.Figure at 0x10e23e1d0>"
      ]
     },
     "metadata": {},
     "output_type": "display_data"
    }
   ],
   "source": [
    "ax = df['Day_of_the_appointment'].hist()\n",
    "ax.set_xlabel(\"(Day of the week)\")\n",
    "ax.set_ylabel('Frequency')"
   ]
  },
  {
   "cell_type": "markdown",
   "metadata": {},
   "source": [
    "# Further analysis to be done.........\n",
    "+ to investigate why there is a high number of people missing the medical appointment.\n",
    "*This is my own opinion requires a Machine learning model to be to predict if a patient will miss the appoitnment or not *\n",
    "+ Also, the scholarship program in this data set needs to be investigated, as i think that the people would misses the appointment may be related to the non-availability of the scholarship.\n",
    "+ The sms data needs to be analysed as it could also be that they have forgotten about the medical appointment "
   ]
  }
 ],
 "metadata": {
  "kernelspec": {
   "display_name": "Python 2",
   "language": "python",
   "name": "python2"
  },
  "language_info": {
   "codemirror_mode": {
    "name": "ipython",
    "version": 2
   },
   "file_extension": ".py",
   "mimetype": "text/x-python",
   "name": "python",
   "nbconvert_exporter": "python",
   "pygments_lexer": "ipython2",
   "version": "2.7.14"
  }
 },
 "nbformat": 4,
 "nbformat_minor": 2
}
